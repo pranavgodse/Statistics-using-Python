{
 "cells": [
  {
   "cell_type": "markdown",
   "metadata": {
    "colab_type": "text",
    "id": "0yzl3MKzf98L"
   },
   "source": [
    "<table align=\"center\" width=100%>\n",
    "    <tr>\n",
    "        <td width=\"10%\">\n",
    "            <img src=\"in_class.png\">\n",
    "        </td>\n",
    "        <td>\n",
    "            <div align=\"center\">\n",
    "                <font color=\"#21618C\" size=8px>\n",
    "                    <b> Inclass-Lab  <br>(Day 1)\n",
    "                    </b>\n",
    "                </font>\n",
    "            </div>\n",
    "        </td>\n",
    "    </tr>\n",
    "</table>"
   ]
  },
  {
   "cell_type": "markdown",
   "metadata": {},
   "source": [
    "## Table of Content\n",
    "\n",
    "1. **[Probability Distributions](#dist)**\n",
    "2. **[Sampling](#sample)**"
   ]
  },
  {
   "cell_type": "markdown",
   "metadata": {},
   "source": [
    "**Import the required libraries**"
   ]
  },
  {
   "cell_type": "code",
   "execution_count": 46,
   "metadata": {},
   "outputs": [],
   "source": [
    "import numpy as np\n",
    "import pandas as pd\n",
    "import matplotlib.pyplot as plt\n",
    "import seaborn as sns\n",
    "import warnings \n",
    "warnings.filterwarnings('ignore')\n",
    "import scipy.stats as stats\n",
    "import math\n",
    "import random\n",
    "from random import sample"
   ]
  },
  {
   "cell_type": "markdown",
   "metadata": {
    "colab_type": "text",
    "id": "psOYFu6zf98N"
   },
   "source": [
    "### Let's begin with some hands-on practice exercises"
   ]
  },
  {
   "cell_type": "markdown",
   "metadata": {
    "colab_type": "text",
    "id": "OL9cj_rRf983"
   },
   "source": [
    "<a id= \"dist\"></a>\n",
    "## 1. Probability Distributions"
   ]
  },
  {
   "cell_type": "markdown",
   "metadata": {
    "collapsed": true
   },
   "source": [
    "<table align=\"left\">\n",
    "    <tr>\n",
    "        <td width=\"6%\">\n",
    "            <img src=\"question_icon.png\">\n",
    "        </td>\n",
    "        <td>\n",
    "            <div align=\"left\", style=\"font-size:120%\">\n",
    "                <font color=\"#21618C\">\n",
    "                    <b>1. In a factory, the probability of producing a defective plastic box is 0.32. A sample of 50 boxes is collected. What is the probability that exactly 15 boxes are defective?\n",
    "</b>\n",
    "                </font>\n",
    "            </div>\n",
    "        </td>\n",
    "    </tr>\n",
    "</table>"
   ]
  },
  {
   "cell_type": "code",
   "execution_count": 47,
   "metadata": {},
   "outputs": [],
   "source": [
    "p = 0.32\n",
    "\n",
    "n = 50 \n",
    "\n",
    "k = 15"
   ]
  },
  {
   "cell_type": "code",
   "execution_count": 48,
   "metadata": {},
   "outputs": [],
   "source": [
    "prob = stats.binom.pmf(k,n,p)"
   ]
  },
  {
   "cell_type": "code",
   "execution_count": 49,
   "metadata": {},
   "outputs": [
    {
     "name": "stdout",
     "output_type": "stream",
     "text": [
      "The probability that exactly 15 boxes are defective is:  0.11678961654306151\n"
     ]
    }
   ],
   "source": [
    "print('The probability that exactly 15 boxes are defective is: ', prob)"
   ]
  },
  {
   "cell_type": "markdown",
   "metadata": {},
   "source": [
    "In a library 50 books are selected at random.On an average 1 out of 10 books is a statistics book. .\n",
    "\n",
    "i) Probability of getting exactly 3 statistics book.\n",
    "\n",
    "ii) Probability of getting atleast 3 statistics book.\n",
    "\n",
    "iii) Probability of getting atmost 3 statistics book.\n",
    "\n",
    "iv) Probability of getting between 3 and 10 statistics book.\n"
   ]
  },
  {
   "cell_type": "code",
   "execution_count": 50,
   "metadata": {},
   "outputs": [
    {
     "data": {
      "text/plain": [
       "0.13856514960695693"
      ]
     },
     "execution_count": 50,
     "metadata": {},
     "output_type": "execute_result"
    }
   ],
   "source": [
    "#1). \n",
    "\n",
    "k = 3\n",
    "n = 50\n",
    "p = 0.1\n",
    "\n",
    "stats.binom.pmf(k,n,p)\n"
   ]
  },
  {
   "cell_type": "code",
   "execution_count": 51,
   "metadata": {},
   "outputs": [
    {
     "data": {
      "text/plain": [
       "0.8882712436536526"
      ]
     },
     "execution_count": 51,
     "metadata": {},
     "output_type": "execute_result"
    }
   ],
   "source": [
    "#2) .   >=3 \n",
    "\n",
    "stats.binom.sf(k,n,p)\n",
    "\n",
    "k = 2\n",
    "n = 50\n",
    "p = 0.1\n",
    "\n",
    "\n",
    "1 - stats.binom.cdf(k,n,p)\n"
   ]
  },
  {
   "cell_type": "code",
   "execution_count": 52,
   "metadata": {},
   "outputs": [
    {
     "data": {
      "text/plain": [
       "0.2502939059533075"
      ]
     },
     "execution_count": 52,
     "metadata": {},
     "output_type": "execute_result"
    }
   ],
   "source": [
    "\n",
    "#3)\n",
    "\n",
    "k = 3\n",
    "n = 50\n",
    "p = 0.1\n",
    "stats.binom.cdf(k,n,p)\n"
   ]
  },
  {
   "cell_type": "code",
   "execution_count": 53,
   "metadata": {},
   "outputs": [
    {
     "data": {
      "text/plain": [
       "0.7403514924593635"
      ]
     },
     "execution_count": 53,
     "metadata": {},
     "output_type": "execute_result"
    }
   ],
   "source": [
    "\n",
    "#4) \n",
    "\n",
    "stats.binom.cdf(k=10,n=50,p=0.1) - stats.binom.cdf(k=3,n=50,p=0.1)\n"
   ]
  },
  {
   "cell_type": "markdown",
   "metadata": {},
   "source": [
    "In a village, the average number of people affected by corona virus in a day is 5.\n",
    "\n",
    "Find the probability of the following:\n",
    "\n",
    "exactly 2 persons suffer.\n"
   ]
  },
  {
   "cell_type": "markdown",
   "metadata": {
    "colab_type": "text",
    "id": "3uPwVwgAf99s"
   },
   "source": [
    "<table align=\"left\">\n",
    "    <tr>\n",
    "        <td width=\"6%\">\n",
    "            <img src=\"question_icon.png\">\n",
    "        </td>\n",
    "        <td>\n",
    "            <div align=\"left\", style=\"font-size:120%\">\n",
    "                <font color=\"#21618C\">\n",
    "                    <b>2. The dietitian has offered a meal plan for 30 patients. After two months of starting the diet, she has collected the data of weights for all the patients. The average weight is 80 kg with a standard deviation of 20 kg. What is the probability that the weight of a person is between 70 to 90 kg? </b>\n",
    "                </font>\n",
    "            </div>\n",
    "        </td>\n",
    "    </tr>\n",
    "</table>"
   ]
  },
  {
   "cell_type": "code",
   "execution_count": 54,
   "metadata": {},
   "outputs": [
    {
     "name": "stdout",
     "output_type": "stream",
     "text": [
      "-0.5 0.5\n",
      "0.6914624612740131\n",
      "0.3085375387259869\n"
     ]
    }
   ],
   "source": [
    "mu = 80\n",
    "\n",
    "std = 20\n",
    "\n",
    "z_70 = (70 - mu) / std\n",
    "\n",
    "z_90 = (90 - mu) / std\n",
    "\n",
    "print(z_70,z_90)\n",
    "\n",
    "p_90 = stats.norm.cdf(z_90)\n",
    "\n",
    "print(p_90)\n",
    "\n",
    "p_70 = stats.norm.cdf(z_70)\n",
    "\n",
    "print(p_70)"
   ]
  },
  {
   "cell_type": "markdown",
   "metadata": {},
   "source": [
    "<table align=\"left\">\n",
    "    <tr>\n",
    "        <td width=\"6%\">\n",
    "            <img src=\"question_icon.png\">\n",
    "        </td>\n",
    "        <td>\n",
    "            <div align=\"left\", style=\"font-size:120%\">\n",
    "                <font color=\"#21618C\">\n",
    "                                    <b>3. The mean salaries of Data Scientists working in Chennai, India is calculated to be 7,00,000 INR with a standard deviation of 90,000 INR. The random variable salary of Data Scientists follows a normal distribution.</b>\n",
    "                </font>\n",
    "            </div>\n",
    "        </td>\n",
    "    </tr>\n",
    "</table>"
   ]
  },
  {
   "cell_type": "markdown",
   "metadata": {},
   "source": [
    "<table align=\"left\">\n",
    "    <tr>\n",
    "        <td>\n",
    "            <div align=\"left\", style=\"font-size:120%\">\n",
    "                <font color=\"#21618C\">\n",
    "                                    <b>a) What is the probability that a Data Scientist in Chennai has a salary more than 10,00,000 INR?</b>\n",
    "                </font>\n",
    "            </div>\n",
    "        </td>\n",
    "    </tr>\n",
    "</table>"
   ]
  },
  {
   "cell_type": "code",
   "execution_count": 55,
   "metadata": {},
   "outputs": [
    {
     "name": "stdout",
     "output_type": "stream",
     "text": [
      " The probability that a Data Scientist in Chennai has a salary more than 1000000 is :  0.0004290603331967846\n",
      " The probability that a Data Scientist in Chennai has a salary more than 1000000 is :  0.0004290603331968372\n"
     ]
    }
   ],
   "source": [
    "#1. \n",
    "\n",
    "mu = 700000\n",
    "std = 90000\n",
    "z_10L = (1000000 - mu) / std\n",
    "p_10L = 1 - stats.norm.cdf(z_10L)\n",
    "print(' The probability that a Data Scientist in Chennai has a salary more than 1000000 is : ', p_10L)\n",
    "\n",
    "\n",
    "#2.\n",
    "\n",
    "print(' The probability that a Data Scientist in Chennai has a salary more than 1000000 is : ', stats.norm.sf(z_10L))"
   ]
  },
  {
   "cell_type": "markdown",
   "metadata": {},
   "source": [
    "<table align=\"left\">\n",
    "    <tr>\n",
    "        <td>\n",
    "            <div align=\"left\", style=\"font-size:120%\">\n",
    "                <font color=\"#21618C\">\n",
    "                                    <b>b) What is the probability that a Data Scientist in Chennai has a salary between 6,00,000 & 9,00,000 INR?</b>\n",
    "                </font>\n",
    "            </div>\n",
    "        </td>\n",
    "    </tr>\n",
    "</table>"
   ]
  },
  {
   "cell_type": "code",
   "execution_count": 56,
   "metadata": {},
   "outputs": [
    {
     "name": "stdout",
     "output_type": "stream",
     "text": [
      " The probability that a Data Scientist in Chennai has salary between 600000 and 900000 INR is:  0.8536055914064735\n"
     ]
    }
   ],
   "source": [
    "z_6L = (600000 - mu) / std\n",
    "z_9L = (900000 - mu) / std\n",
    "\n",
    "p_bet_69 = stats.norm.cdf(z_9L) - stats.norm.cdf(z_6L)\n",
    "\n",
    "print(' The probability that a Data Scientist in Chennai has salary between 600000 and 900000 INR is: ', p_bet_69)"
   ]
  },
  {
   "cell_type": "markdown",
   "metadata": {},
   "source": [
    "<table align=\"left\">\n",
    "    <tr>\n",
    "        <td>\n",
    "            <div align=\"left\", style=\"font-size:120%\">\n",
    "                <font color=\"#21618C\">\n",
    "                                    <b>c) What is the probability that a Data Scientist in Chennai has a salary less than 4,00,000 INR?</b>\n",
    "                </font>\n",
    "            </div>\n",
    "        </td>\n",
    "    </tr>\n",
    "</table>"
   ]
  },
  {
   "cell_type": "code",
   "execution_count": 57,
   "metadata": {},
   "outputs": [
    {
     "name": "stdout",
     "output_type": "stream",
     "text": [
      " The probability that a Data Scientist in Chennai has salary less than 400000 INR is:  0.0004290603331968372\n"
     ]
    }
   ],
   "source": [
    "z_4L = (400000 - mu)/std\n",
    "p_bet_4 = stats.norm.cdf(z_4L)\n",
    "print(' The probability that a Data Scientist in Chennai has salary less than 400000 INR is: ', p_bet_4)"
   ]
  },
  {
   "cell_type": "markdown",
   "metadata": {},
   "source": [
    "<table align=\"left\">\n",
    "    <tr>\n",
    "        <td width=\"6%\">\n",
    "            <img src=\"question_icon.png\">\n",
    "        </td>\n",
    "        <td>\n",
    "            <div align=\"left\", style=\"font-size:120%\">\n",
    "                <font color=\"#21618C\">\n",
    "                                    <b>4. The following table contains the overall miles per Gallon (MPG) of 2017 small SUVs ( n =40).</b>\n",
    "                </font>\n",
    "            </div>\n",
    "        </td>\n",
    "    </tr>\n",
    "</table>"
   ]
  },
  {
   "cell_type": "code",
   "execution_count": 58,
   "metadata": {
    "id": "2zj0fM6ZpCDO",
    "outputId": "592077f1-5a43-4e6f-bf3f-8d80c90f7e26"
   },
   "outputs": [
    {
     "name": "stdout",
     "output_type": "stream",
     "text": [
      "[19 20 20 20 21 19 21 19 21 20 20 20 19 21 21 22 20 22 20 20 22 20 22 21\n",
      " 19 19 20 20 21 20 19 18 20 21 21 20 21 21 20 21]\n"
     ]
    }
   ],
   "source": [
    "mpg = np.array([19, 20, 20, 20, 21, 19, 21, 19, 21, 20, 20, 20, 19, 21, 21, 22, 20, 22, 20, 20, 22, 20, 22, 21, 19,\n",
    "                             19, 20, 20, 21, 20, 19, 18, 20, 21, 21, 20, 21, 21, 20,  21])\n",
    "print(mpg)"
   ]
  },
  {
   "cell_type": "markdown",
   "metadata": {},
   "source": [
    "<table align=\"left\">\n",
    "    <tr>\n",
    "        <td>\n",
    "            <div align=\"left\", style=\"font-size:120%\">\n",
    "                <font color=\"#21618C\">\n",
    "                                    <b>a.Decide whether the data appears to be normally distributed by.</b>\n",
    "                </font>\n",
    "            </div>\n",
    "        </td>\n",
    "    </tr>\n",
    "</table>"
   ]
  },
  {
   "cell_type": "code",
   "execution_count": 59,
   "metadata": {},
   "outputs": [
    {
     "data": {
      "image/png": "[encoded data removed]",
      "text/plain": [
       "<Figure size 432x288 with 1 Axes>"
      ]
     },
     "metadata": {
      "needs_background": "light"
     },
     "output_type": "display_data"
    }
   ],
   "source": [
    "fig,ax= plt.subplots()\n",
    "pd.DataFrame(mpg).plot.kde(ax=ax,legend= False)\n",
    "pd.DataFrame(mpg).plot.hist(density= True, ax=ax)\n",
    "plt.show()\n"
   ]
  },
  {
   "cell_type": "markdown",
   "metadata": {},
   "source": [
    "<table align=\"left\">\n",
    "    <tr>\n",
    "        <td>\n",
    "            <div align=\"left\", style=\"font-size:120%\">\n",
    "                <font color=\"#21618C\">\n",
    "                                    <b>b. Mean and median .</b>\n",
    "                </font>\n",
    "            </div>\n",
    "        </td>\n",
    "    </tr>\n",
    "</table>"
   ]
  },
  {
   "cell_type": "code",
   "execution_count": 60,
   "metadata": {},
   "outputs": [
    {
     "name": "stdout",
     "output_type": "stream",
     "text": [
      "The mean and the median values are : 20.275 and 20.0 respectively.\n",
      "The distribution is almost normal.\n"
     ]
    }
   ],
   "source": [
    "mean_data = np.mean(mpg)\n",
    "\n",
    "median_data = np.median(mpg)\n",
    "\n",
    "print('The mean and the median values are :', mean_data, 'and', median_data,'respectively.' )\n",
    "print('The distribution is almost normal.')"
   ]
  },
  {
   "cell_type": "markdown",
   "metadata": {
    "colab_type": "text",
    "id": "GhwNCvTmf99O"
   },
   "source": [
    "<a id=\"sample\"></a>\n",
    "## 2. Sampling"
   ]
  },
  {
   "cell_type": "markdown",
   "metadata": {
    "colab_type": "text",
    "id": "EE_L86gBf99t"
   },
   "source": [
    "<table align=\"left\">\n",
    "    <tr>\n",
    "        <td width=\"6%\">\n",
    "            <img src=\"question_icon.png\">\n",
    "        </td>\n",
    "        <td>\n",
    "            <div align=\"left\", style=\"font-size:120%\">\n",
    "                <font color=\"#21618C\">\n",
    "                    <b>5. A farmer has planted 98 tomato plants last year. He has numbered each plant with numbers 1,2,...98. Now he wants to study the growth of the plants. Help the farmer to select 12 plants randomly as a sample for the study using an appropriate sampling technique.</b>\n",
    "                </font>\n",
    "            </div>\n",
    "        </td>\n",
    "    </tr>\n",
    "</table>"
   ]
  },
  {
   "cell_type": "code",
   "execution_count": 61,
   "metadata": {},
   "outputs": [
    {
     "data": {
      "text/plain": [
       "array([ 1,  2,  3,  4,  5,  6,  7,  8,  9, 10, 11, 12, 13, 14, 15, 16, 17,\n",
       "       18, 19, 20, 21, 22, 23, 24, 25, 26, 27, 28, 29, 30, 31, 32, 33, 34,\n",
       "       35, 36, 37, 38, 39, 40, 41, 42, 43, 44, 45, 46, 47, 48, 49, 50, 51,\n",
       "       52, 53, 54, 55, 56, 57, 58, 59, 60, 61, 62, 63, 64, 65, 66, 67, 68,\n",
       "       69, 70, 71, 72, 73, 74, 75, 76, 77, 78, 79, 80, 81, 82, 83, 84, 85,\n",
       "       86, 87, 88, 89, 90, 91, 92, 93, 94, 95, 96, 97, 98])"
      ]
     },
     "execution_count": 61,
     "metadata": {},
     "output_type": "execute_result"
    }
   ],
   "source": [
    "#with replacement technique \n",
    "\n",
    "#with out replacement technique\n",
    "import numpy as np\n",
    "\n",
    "\n",
    "data = np.arange(1,99,1)\n",
    "\n",
    "data"
   ]
  },
  {
   "cell_type": "code",
   "execution_count": 62,
   "metadata": {},
   "outputs": [
    {
     "data": {
      "text/plain": [
       "[9, 11, 2, 87, 23, 47, 76, 33, 50, 91, 15, 68]"
      ]
     },
     "execution_count": 62,
     "metadata": {},
     "output_type": "execute_result"
    }
   ],
   "source": [
    "# SYNTAX     random.sample(population, size_of_sample)    # without replacement\n",
    "\n",
    "sample = random.sample(population=list(data),k=12)\n",
    "\n",
    "sample"
   ]
  },
  {
   "cell_type": "markdown",
   "metadata": {
    "colab_type": "text",
    "id": "-qD5ZQ7Bf99v"
   },
   "source": [
    "<table align=\"left\">\n",
    "    <tr>\n",
    "        <td width=\"6%\">\n",
    "            <img src=\"question_icon.png\">\n",
    "        </td>\n",
    "        <td>\n",
    "            <div align=\"left\", style=\"font-size:120%\">\n",
    "                <font color=\"#21618C\">\n",
    "                    <b>6. Ron found gold, silver and copper coin on his way home. He asked 10 people to choose a coin randomly. He then created a list of coins chosen by each individual. Find one of the possible sample space for this experiment. </b>\n",
    "                </font>\n",
    "            </div>\n",
    "        </td>\n",
    "    </tr>\n",
    "</table>"
   ]
  },
  {
   "cell_type": "code",
   "execution_count": 63,
   "metadata": {},
   "outputs": [
    {
     "data": {
      "text/plain": [
       "['copper',\n",
       " 'copper',\n",
       " 'gold',\n",
       " 'copper',\n",
       " 'gold',\n",
       " 'copper',\n",
       " 'gold',\n",
       " 'copper',\n",
       " 'copper',\n",
       " 'copper']"
      ]
     },
     "execution_count": 63,
     "metadata": {},
     "output_type": "execute_result"
    }
   ],
   "source": [
    "#with replacement technique \n",
    "\n",
    "#with out replacement technique\n",
    "import numpy as np\n",
    "\n",
    "data = np.arange(1,99,1)\n",
    "\n",
    "data\n",
    "\n",
    "# SYNTAX     random.sample(population, size_of_sample)    # without replacement\n",
    "\n",
    "sample = random.sample(population=list(data),k=12)\n",
    "\n",
    "sample\n",
    "# type your code here\n",
    "pop=['gold','silver','copper']\n",
    "\n",
    "\n",
    "\n",
    "random.choices(population=pop,k=10)    # With Replacement\n"
   ]
  },
  {
   "cell_type": "markdown",
   "metadata": {},
   "source": [
    "<table align=\"left\">\n",
    "    <tr>\n",
    "        <td width=\"6%\">\n",
    "            <img src=\"question_icon.png\">\n",
    "        </td>\n",
    "        <td>\n",
    "            <div align=\"left\", style=\"font-size:120%\">\n",
    "                <font color=\"#21618C\">\n",
    "                                    <b>7. What is the sampling error and standard error for the given the population data and sample data.Explain what is sampling error and how can standard error can be reduced.</b>\n",
    "                </font>\n",
    "            </div>\n",
    "        </td>\n",
    "    </tr>\n",
    "</table>"
   ]
  },
  {
   "cell_type": "markdown",
   "metadata": {
    "id": "vVp74UC0pCDa"
   },
   "source": [
    "**Population data.**"
   ]
  },
  {
   "cell_type": "code",
   "execution_count": 64,
   "metadata": {
    "id": "kZV4KGMwpCDd"
   },
   "outputs": [],
   "source": [
    "Marks_scored=[60,80,70,75,80,90,100,100,65,75,60,90,70,70,80,50,55,60,70,65,70,55,50,65,70,65,70,65,75,80,90,95,95,85,90,80,75,70,80,85,90,80,75,70,60,65,70,80,75,80,90,65,80,65,70,85,75,70,80,85,65,70,85,80,65,70,80,90,100,60,70,55,60,70,70,70,80,85,90,80,75,70,60,65,70,80,75,80,90,70,85,80,65,70,80,90,100,60,70,80]"
   ]
  },
  {
   "cell_type": "markdown",
   "metadata": {
    "id": "s1-j5hHmpCDf"
   },
   "source": [
    "**Sample data.**"
   ]
  },
  {
   "cell_type": "code",
   "execution_count": 65,
   "metadata": {
    "id": "RHZvkjlSpCDg"
   },
   "outputs": [],
   "source": [
    "sam_marks=[90,100,100,65,75,60,90,70,65,70,65,70,65,60,70,85,65,70,85,80,65,70,80,65,70]"
   ]
  },
  {
   "cell_type": "markdown",
   "metadata": {},
   "source": [
    "<table align=\"left\">\n",
    "    <tr>\n",
    "        <td>\n",
    "            <div align=\"left\", style=\"font-size:120%\">\n",
    "                <font color=\"#21618C\">\n",
    "                                    <b>a. Calculate the Sampling Error.</b>\n",
    "                </font>\n",
    "            </div>\n",
    "        </td>\n",
    "    </tr>\n",
    "</table>"
   ]
  },
  {
   "cell_type": "code",
   "execution_count": 66,
   "metadata": {},
   "outputs": [
    {
     "name": "stdout",
     "output_type": "stream",
     "text": [
      "The sampling error is:  0.9500000000000028\n"
     ]
    }
   ],
   "source": [
    "Marks_scored = np.array(Marks_scored)\n",
    "sam_marks = np.array(sam_marks)\n",
    "popmean = np.mean(Marks_scored)\n",
    "sammean = np.mean(sam_marks)\n",
    "print('The sampling error is: ', popmean - sammean)"
   ]
  },
  {
   "cell_type": "markdown",
   "metadata": {},
   "source": [
    "<table align=\"left\">\n",
    "    <tr>\n",
    "        <td>\n",
    "            <div align=\"left\", style=\"font-size:120%\">\n",
    "                <font color=\"#21618C\">\n",
    "                                    <b>b. Calculate the standard error.</b>\n",
    "                </font>\n",
    "            </div>\n",
    "        </td>\n",
    "    </tr>\n",
    "</table>"
   ]
  },
  {
   "cell_type": "code",
   "execution_count": 67,
   "metadata": {},
   "outputs": [
    {
     "name": "stdout",
     "output_type": "stream",
     "text": [
      "The standard Error is: 2.2605087922854894\n"
     ]
    }
   ],
   "source": [
    "pop_std= Marks_scored.std()\n",
    "n= len(sam_marks)\n",
    "StandardError= pop_std/(np.sqrt(n))\n",
    "print('The standard Error is:', StandardError)\n"
   ]
  }
 ],
 "metadata": {
  "colab": {
   "name": "ITP - In-Class Lab Exercise (Day1) - Solutions [V1.0 030120].ipynb",
   "provenance": []
  },
  "kernelspec": {
   "display_name": "Python 3",
   "language": "python",
   "name": "python3"
  },
  "language_info": {
   "codemirror_mode": {
    "name": "ipython",
    "version": 3
   },
   "file_extension": ".py",
   "mimetype": "text/x-python",
   "name": "python",
   "nbconvert_exporter": "python",
   "pygments_lexer": "ipython3",
   "version": "3.8.8"
  }
 },
 "nbformat": 4,
 "nbformat_minor": 1
}
