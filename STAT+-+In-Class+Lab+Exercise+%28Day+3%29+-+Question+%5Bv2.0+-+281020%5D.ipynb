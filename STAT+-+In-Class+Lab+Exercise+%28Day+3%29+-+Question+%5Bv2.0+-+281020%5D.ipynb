{
 "cells": [
  {
   "cell_type": "markdown",
   "metadata": {
    "colab_type": "text",
    "id": "0yzl3MKzf98L"
   },
   "source": [
    "<table align=\"center\" width=100%>\n",
    "    <tr>\n",
    "        <td width=\"10%\">\n",
    "            <img src=\"in_class.png\">\n",
    "        </td>\n",
    "        <td>\n",
    "            <div align=\"center\">\n",
    "                <font color=\"#21618C\" size=8px>\n",
    "                    <b> Inclass-Lab  <br>(Day 3)\n",
    "                    </b>\n",
    "                </font>\n",
    "            </div>\n",
    "        </td>\n",
    "    </tr>\n",
    "</table>"
   ]
  },
  {
   "cell_type": "markdown",
   "metadata": {},
   "source": [
    "## Table of Content\n",
    "\n",
    "1. **[Large Sample Test](#z)**\n",
    "2. **[Small Sample Test](#t)**\n",
    "3. **[Z Proportion Test](#prop)**"
   ]
  },
  {
   "cell_type": "markdown",
   "metadata": {},
   "source": [
    "**Import the required libraries**"
   ]
  },
  {
   "cell_type": "code",
   "execution_count": 49,
   "metadata": {},
   "outputs": [],
   "source": [
    "import numpy as np\n",
    "import pandas as pd\n",
    "import matplotlib.pyplot as plt\n",
    "import seaborn as sns\n",
    "import warnings \n",
    "warnings.filterwarnings('ignore')\n",
    "import scipy.stats as stats\n",
    "import math\n",
    "import random\n",
    "from random import sample\n",
    "import statistics "
   ]
  },
  {
   "cell_type": "markdown",
   "metadata": {
    "colab_type": "text",
    "id": "psOYFu6zf98N"
   },
   "source": [
    "### Let's begin with some hands-on practice exercises"
   ]
  },
  {
   "cell_type": "markdown",
   "metadata": {
    "colab_type": "text",
    "id": "r4J-iIEhf98N"
   },
   "source": [
    "<a id = \"z\"> </a>\n",
    "## 1. Large Sample Test"
   ]
  },
  {
   "cell_type": "markdown",
   "metadata": {
    "colab_type": "text",
    "id": "V7QJT8W9f98T"
   },
   "source": [
    "<table align=\"left\">\n",
    "    <tr>\n",
    "        <td width=\"6%\">\n",
    "            <img src=\"question_icon.png\">\n",
    "        </td>\n",
    "        <td>\n",
    "            <div align=\"left\", style=\"font-size:120%\">\n",
    "                <font color=\"#21618C\">\n",
    "                    <b>1. The company MangoFun that produces mango juice claims that the protein content in their juice is more than the juice produced by their competitor company FruitMix. Protein content in 50 boxes of MangoFun juice and 80 boxes of FruitMix juice is collected from a normal population which have an average protein content as 0.4 g and 0.35 g. The two samples have a standard deviation of 0.08 g for MangoFun juice and 0.05 g for FruitMix juice. Test the claim using a critical value method at a 1% level of significance.</b>\n",
    "                </font>\n",
    "            </div>\n",
    "        </td>\n",
    "    </tr>\n",
    "</table>"
   ]
  },
  {
   "cell_type": "markdown",
   "metadata": {},
   "source": [
    "Use the data given below:\n",
    "\n",
    "time =  [2.51, 2.1, 2.18, 2.61, 1.9, 1.7, 1.95, 2.1, 1.58, 2.5, 2.19, 1.85, 1.35, 2.4, 2.22, 2.15, 1.82, 1.62, 1.26, \n",
    "         2.2, 2.35, 2.5, 2.18, 1.58, 2.24, 1.84, 2.31, 2.24, 1.75, 1.41, 1.57, 2.4]"
   ]
  },
  {
   "cell_type": "code",
   "execution_count": 50,
   "metadata": {},
   "outputs": [
    {
     "name": "stdout",
     "output_type": "stream",
     "text": [
      "Calculated Value of Z-Test = 3.9621\n",
      "Standard Normal Variate = Z(α)= 2.3263\n",
      "Reject Null Hypothesis Ho\n",
      "There is no significant difference between company MangoFun and companyFruitMix at 1% Level of significance.\n"
     ]
    }
   ],
   "source": [
    "n1=50\n",
    "n2=80\n",
    "xbar_1=0.40\n",
    "xbar_2=0.35\n",
    "σ1=0.08\n",
    "σ2=0.05\n",
    "# Test Statistic:\n",
    "\n",
    "z_test=(xbar_1-xbar_2)/np.sqrt((σ1**2/n1)+(σ2**2/n2))\n",
    "print(\"Calculated Value of Z-Test =\",round(z_test,4))\n",
    "\n",
    "# Level of significance = α = 1%\n",
    "\n",
    "α=0.01\n",
    "\n",
    "# Use the Z-distribution: Standard Normal Variate = Z(α)\n",
    "\n",
    "Z_α= stats.norm.isf(α)\n",
    "print(\"Standard Normal Variate = Z(α)=\",round(Z_α,4))\n",
    "\n",
    "# Decision Criterion \n",
    "\n",
    "if abs(z_test)<Z_α:\n",
    "    print(\"Accept Null Hypothesis Ho\")\n",
    "else:\n",
    "    print(\"Reject Null Hypothesis Ho\")\n",
    "    print(\"There is no significant difference between company MangoFun and companyFruitMix at 1% Level of significance.\")"
   ]
  },
  {
   "cell_type": "markdown",
   "metadata": {
    "colab_type": "text",
    "id": "6YXVLVi9f98b"
   },
   "source": [
    "<table align=\"left\">\n",
    "    <tr>\n",
    "        <td width=\"6%\">\n",
    "            <img src=\"question_icon.png\">\n",
    "        </td>\n",
    "        <td>\n",
    "            <div align=\"left\", style=\"font-size:120%\">\n",
    "                <font color=\"#21618C\">\n",
    "                    <b>2. The technician wants to test whether the price of a phablet is not the same as the price of tablet. For the study, the technician collects the data of 50 gadgets of each type. Check whether the data satisfies the conditions to use the two sample Z-test. (Use 5% level of significance)</b>\n",
    "                </font>\n",
    "            </div>\n",
    "        </td>\n",
    "    </tr>\n",
    "</table>"
   ]
  },
  {
   "cell_type": "markdown",
   "metadata": {},
   "source": [
    "Consider the dataset given in the CSV file `electronic.csv`. "
   ]
  },
  {
   "cell_type": "code",
   "execution_count": 51,
   "metadata": {},
   "outputs": [
    {
     "data": {
      "text/html": [
       "<div>\n",
       "<style scoped>\n",
       "    .dataframe tbody tr th:only-of-type {\n",
       "        vertical-align: middle;\n",
       "    }\n",
       "\n",
       "    .dataframe tbody tr th {\n",
       "        vertical-align: top;\n",
       "    }\n",
       "\n",
       "    .dataframe thead th {\n",
       "        text-align: right;\n",
       "    }\n",
       "</style>\n",
       "<table border=\"1\" class=\"dataframe\">\n",
       "  <thead>\n",
       "    <tr style=\"text-align: right;\">\n",
       "      <th></th>\n",
       "      <th>Screensize (inch)</th>\n",
       "      <th>Price ($)</th>\n",
       "      <th>Weight (g)</th>\n",
       "      <th>Type</th>\n",
       "    </tr>\n",
       "  </thead>\n",
       "  <tbody>\n",
       "    <tr>\n",
       "      <th>0</th>\n",
       "      <td>6.5</td>\n",
       "      <td>245</td>\n",
       "      <td>252</td>\n",
       "      <td>Phablet</td>\n",
       "    </tr>\n",
       "    <tr>\n",
       "      <th>1</th>\n",
       "      <td>6.3</td>\n",
       "      <td>210</td>\n",
       "      <td>252</td>\n",
       "      <td>Phablet</td>\n",
       "    </tr>\n",
       "    <tr>\n",
       "      <th>2</th>\n",
       "      <td>6.1</td>\n",
       "      <td>224</td>\n",
       "      <td>234</td>\n",
       "      <td>Phablet</td>\n",
       "    </tr>\n",
       "    <tr>\n",
       "      <th>3</th>\n",
       "      <td>6.0</td>\n",
       "      <td>217</td>\n",
       "      <td>212</td>\n",
       "      <td>Phablet</td>\n",
       "    </tr>\n",
       "    <tr>\n",
       "      <th>4</th>\n",
       "      <td>6.4</td>\n",
       "      <td>252</td>\n",
       "      <td>252</td>\n",
       "      <td>Phablet</td>\n",
       "    </tr>\n",
       "  </tbody>\n",
       "</table>\n",
       "</div>"
      ],
      "text/plain": [
       "   Screensize (inch)  Price ($)  Weight (g)     Type\n",
       "0                6.5        245         252  Phablet\n",
       "1                6.3        210         252  Phablet\n",
       "2                6.1        224         234  Phablet\n",
       "3                6.0        217         212  Phablet\n",
       "4                6.4        252         252  Phablet"
      ]
     },
     "execution_count": 51,
     "metadata": {},
     "output_type": "execute_result"
    }
   ],
   "source": [
    "df=pd.read_csv('electronic.csv')\n",
    "df.head()"
   ]
  },
  {
   "cell_type": "markdown",
   "metadata": {
    "colab_type": "text",
    "id": "YIaQZc58f98p"
   },
   "source": [
    "<table align=\"left\">\n",
    "    <tr>\n",
    "        <td width=\"6%\">\n",
    "            <img src=\"question_icon.png\">\n",
    "        </td>\n",
    "        <td>\n",
    "            <div align=\"left\", style=\"font-size:120%\">\n",
    "                <font color=\"#21618C\">\n",
    "                    <b>3. The technician claims that the price of phablet is not the same as the price of tablet. For the study, the technician collects the data of 50 gadgets of each type. Test the technician's claim using the 95% confidence interval.</b>\n",
    "                </font>\n",
    "            </div>\n",
    "        </td>\n",
    "    </tr>\n",
    "</table>"
   ]
  },
  {
   "cell_type": "markdown",
   "metadata": {},
   "source": [
    "Consider the dataset given in the CSV file `electronic.csv`. "
   ]
  },
  {
   "cell_type": "code",
   "execution_count": 1,
   "metadata": {},
   "outputs": [],
   "source": []
  },
  {
   "cell_type": "markdown",
   "metadata": {
    "colab_type": "text",
    "id": "QLSslfFdf98b"
   },
   "source": [
    "<a id=\"t\"></a>\n",
    "## 2. Small Sample Test"
   ]
  },
  {
   "cell_type": "markdown",
   "metadata": {
    "colab_type": "text",
    "id": "qI6L73Qhf98t"
   },
   "source": [
    "<table align=\"left\">\n",
    "    <tr>\n",
    "        <td width=\"6%\">\n",
    "            <img src=\"question_icon.png\">\n",
    "        </td>\n",
    "        <td>\n",
    "            <div align=\"left\", style=\"font-size:120%\">\n",
    "                <font color=\"#21618C\">\n",
    "                    <b>4. The quality assurance department has collected 15 packets of potato chips. The department wants to test the average weight of the packets. Check whether they can use the one sample t-test for the population mean with 95% confidence.</b>\n",
    "                </font>\n",
    "            </div>\n",
    "        </td>\n",
    "    </tr>\n",
    "</table>"
   ]
  },
  {
   "cell_type": "markdown",
   "metadata": {},
   "source": [
    "Use the data given below:\n",
    "        \n",
    "    pack_wt = [26.8, 29.6, 27.8, 31.2, 30.9, 27.1, 28, 28.6, 29.4, 29.3, 31.5, 32.4, 29.7, 28.1, 31.9]"
   ]
  },
  {
   "cell_type": "code",
   "execution_count": 52,
   "metadata": {},
   "outputs": [
    {
     "name": "stdout",
     "output_type": "stream",
     "text": [
      "Calculated Value of t-Test = -1.1205\n",
      "Critical Value of t-test = 2.1448\n",
      "Accept Null Hypothesis Ho\n",
      "p-value = 0.2814\n",
      "Accepting null hypothesis Ho\n",
      "The average weight of the packets is 30 g at 5% level of significance.\n"
     ]
    }
   ],
   "source": [
    "pack_wt=np.array([26.8,29.6,27.8,31.2,30.9,27.1,28,28.6,29.4,29.3,31.5,32.4,29.7,28.1,31.9])\n",
    "n=15\n",
    "μ=30\n",
    "average_wt=np.mean(pack_wt)\n",
    "S=np.std(pack_wt,ddof=1)\n",
    "\n",
    "t_test=(average_wt-μ)/(S/np.sqrt(n))\n",
    "print(\"Calculated Value of t-Test =\",round(t_test,4))\n",
    "\n",
    "df = n-1\n",
    "\n",
    "cv= stats.t.ppf(1-0.025,df)\n",
    "print(\"Critical Value of t-test =\",round(cv,4))\n",
    "\n",
    "if abs(t_test) < cv:\n",
    "    print(\"Accept Null Hypothesis Ho\")\n",
    "else:\n",
    "    print(\"Reject Null Hypothesis Ho\")\n",
    "    \n",
    "t_stat,pval= stats.ttest_1samp(pack_wt,30)\n",
    "print(\"p-value =\",round(float(pval),4))\n",
    "\n",
    "if pval < 0.025:\n",
    "    print(\"Rejecting null hypothesis Ho\")\n",
    "else:\n",
    "    print(\"Accepting null hypothesis Ho\")\n",
    "    print(\"The average weight of the packets is 30 g at 5% level of significance.\")"
   ]
  },
  {
   "cell_type": "markdown",
   "metadata": {
    "colab_type": "text",
    "id": "iZkGr2rTf98y"
   },
   "source": [
    "<table align=\"left\">\n",
    "    <tr>\n",
    "        <td width=\"6%\">\n",
    "            <img src=\"question_icon.png\">\n",
    "        </td>\n",
    "        <td>\n",
    "            <div align=\"left\", style=\"font-size:120%\">\n",
    "                <font color=\"#21618C\">\n",
    "                    <b>5. Use the weight of the potato chips packets given in the previous question and test whether the average weight of packet is more than 30 g. using p-value method. (Use 10% level of significance)</b>\n",
    "                </font>\n",
    "            </div>\n",
    "        </td>\n",
    "    </tr>\n",
    "</table>"
   ]
  },
  {
   "cell_type": "markdown",
   "metadata": {},
   "source": [
    "Use the data given below:\n",
    "        \n",
    "    pack_wt = [26.8, 29.6, 27.8, 31.2, 30.9, 27.1, 28, 28.6, 29.4, 29.3, 31.5, 32.4, 29.7, 28.1, 31.9]"
   ]
  },
  {
   "cell_type": "code",
   "execution_count": 53,
   "metadata": {},
   "outputs": [
    {
     "name": "stdout",
     "output_type": "stream",
     "text": [
      "Calculated Value of t-Test = -1.1205\n",
      "Critical Value of t-test = 1.345\n",
      "Accept Null Hypothesis Ho\n",
      "p-value = 0.2814\n",
      "Accepting null hypothesis Ho\n",
      "The average weight of the packets is 30 g at 10% level of significance.\n"
     ]
    }
   ],
   "source": [
    "pack_wt=np.array([26.8,29.6,27.8,31.2,30.9,27.1,28,28.6,29.4,29.3,31.5,32.4,29.7,28.1,31.9])\n",
    "n=len(pack_wt)\n",
    "μ=30\n",
    "\n",
    "average_wt=np.mean(pack_wt)\n",
    "S=np.std(pack_wt,ddof=1)\n",
    "\n",
    "t_test=(average_wt-μ)/(S/np.sqrt(n))\n",
    "print(\"Calculated Value of t-Test =\",round(t_test,4))\n",
    "\n",
    "α = 0.10\n",
    "\n",
    "df = n-1\n",
    "\n",
    "cv= stats.t.ppf(1-α,df)\n",
    "print(\"Critical Value of t-test =\",round(cv,4))\n",
    "\n",
    "if abs(t_test) < cv:\n",
    "    print(\"Accept Null Hypothesis Ho\")\n",
    "else:\n",
    "    print(\"Reject Null Hypothesis Ho\")\n",
    "    \n",
    "t_stat, pval= stats.ttest_1samp(pack_wt,30)\n",
    "print(\"p-value =\",round(float(pval),4))\n",
    "\n",
    "if pval <0.10:\n",
    "    print(\"Rejecting null hypothesis Ho\")\n",
    "else:\n",
    "    print(\"Accepting null hypothesis Ho\")\n",
    "    print(\"The average weight of the packets is 30 g at 10% level of significance.\")"
   ]
  },
  {
   "cell_type": "markdown",
   "metadata": {
    "collapsed": true
   },
   "source": [
    "<table align=\"left\">\n",
    "    <tr>\n",
    "        <td width=\"6%\">\n",
    "            <img src=\"question_icon.png\">\n",
    "        </td>\n",
    "        <td>\n",
    "            <div align=\"left\", style=\"font-size:120%\">\n",
    "                <font color=\"#21618C\">\n",
    "                    <b>6. The orthopaedic surgeon states that a T-score for females older than 30 years is less than -1.2 which indicates the low bone density. To test the claim a sample of 10 women was selected and the average T-score was found to be -1.34 with a standard deviation of 0.8. Test the surgeon's claim using a critical value method with 95% confidence. (Assume the normality of the T-score). </b>\n",
    "                </font>\n",
    "            </div>\n",
    "        </td>\n",
    "    </tr>\n",
    "</table>"
   ]
  },
  {
   "cell_type": "code",
   "execution_count": 54,
   "metadata": {},
   "outputs": [
    {
     "name": "stdout",
     "output_type": "stream",
     "text": [
      "Calculated Value of t-Test = 0.5534\n",
      "Critical Value of t-test = -1.8331\n",
      "Reject Null Hypothesis Ho\n",
      "p-value = 0.0\n",
      "Rejecting null hypothesis Ho\n",
      "The average T-score for females older than 30 years is less than -1.2 at 5% level of significance.\n"
     ]
    }
   ],
   "source": [
    "n=10 \n",
    "μ=1.2\n",
    "xbar=1.34\n",
    "S=0.8\n",
    "\n",
    "t_test=(xbar-μ)/(S/np.sqrt(n))\n",
    "print(\"Calculated Value of t-Test =\",round(t_test,4))\n",
    "\n",
    "α = 0.05\n",
    "\n",
    "df = n-1\n",
    "\n",
    "cv = stats.t.ppf(α,df)\n",
    "print(\"Critical Value of t-test =\",round(cv,4))\n",
    "\n",
    "if abs(t_test) < cv:\n",
    "    print(\"Accept Null Hypothesis Ho\")\n",
    "else:\n",
    "    print(\"Reject Null Hypothesis Ho\")\n",
    "    \n",
    "t_stat,pval= stats.ttest_1samp(pack_wt,1.2)\n",
    "print(\"p-value =\",round(float(pval),4))\n",
    "\n",
    "if pval < 0.05:\n",
    "    print(\"Rejecting null hypothesis Ho\")\n",
    "else:\n",
    "    print(\"Accepting null hypothesis Ho\")\n",
    "print(\"The average T-score for females older than 30 years is less than -1.2 at 5% level of significance.\")"
   ]
  },
  {
   "cell_type": "markdown",
   "metadata": {
    "colab_type": "text",
    "id": "iOS1kKjWf983"
   },
   "source": [
    "<table align=\"left\">\n",
    "    <tr>\n",
    "        <td width=\"6%\">\n",
    "            <img src=\"question_icon.png\">\n",
    "        </td>\n",
    "        <td>\n",
    "            <div align=\"left\", style=\"font-size:120%\">\n",
    "                <font color=\"#21618C\">\n",
    "                    <b>7. The newspaper agency wants to test whether Harry takes less time to deliver the newspapers than his colleague Ron. The manager has collected time (in minutes) taken by Harry and Ron for 7 days. Is the given dataset unpaired? If yes, check whether the manager at newspaper agency can use the two sample t-test for unpaired data with 99% confidence.  </b>\n",
    "                </font>\n",
    "            </div>\n",
    "        </td>\n",
    "    </tr>\n",
    "</table>"
   ]
  },
  {
   "cell_type": "markdown",
   "metadata": {},
   "source": [
    "Use the data given below:\n",
    "        \n",
    "    harry = [18.5, 17.4, 19.2, 16, 15.8, 13.4, 19.5]\n",
    "    ron = [19.7, 18.6, 21.3, 17.5, 23.8, 20.7, 21]"
   ]
  },
  {
   "cell_type": "code",
   "execution_count": 55,
   "metadata": {},
   "outputs": [
    {
     "name": "stdout",
     "output_type": "stream",
     "text": [
      "Mean of Harry = 17.1143\n",
      "Mean of Ron = 20.3714\n",
      "Standard Deviation of Harry = 2.1912\n",
      "Standard Deviation of Ron = 2.0394\n",
      "Calculated Value of t-Test = -2.8789\n",
      "Critical Value of t-test = 3.0545\n",
      "Accept Null Hypothesis Ho\n",
      "The given dataset is paired at 1% level of significance.\n"
     ]
    }
   ],
   "source": [
    "harry=np.array([18.5,17.4,19.2,16,15.8,13.4,19.5])\n",
    "ron=np.array([19.7,18.6,21.3,17.5,23.8,20.7,21])\n",
    "n1=len(harry)\n",
    "n2=len(ron)\n",
    "xbar_1=np.mean(harry)\n",
    "xbar_2=np.mean(ron)\n",
    "S1=np.std(harry,ddof=1)\n",
    "S2=np.std(ron,ddof=1)\n",
    "\n",
    "print(\"Mean of Harry =\",round(xbar_1,4))\n",
    "print(\"Mean of Ron =\",round(xbar_2,4))\n",
    "print(\"Standard Deviation of Harry =\",round(S1,4))\n",
    "print(\"Standard Deviation of Ron =\",round(S2,4))\n",
    "\n",
    "t_test=(xbar_1-xbar_2)/np.sqrt((S1**2/n1)+(S2**2/n2))\n",
    "print(\"Calculated Value of t-Test =\",round(t_test,4))\n",
    "\n",
    "df=n1+n2-2 \n",
    "cv= stats.t.ppf(1-0.005,df)\n",
    "print(\"Critical Value of t-test =\",round(cv,4))\n",
    "\n",
    "if abs(t_test) < cv:\n",
    "    print(\"Accept Null Hypothesis Ho\")\n",
    "else:\n",
    "    print(\"Reject Null Hypothesis Ho\")\n",
    "print(\"The given dataset is paired at 1% level of significance.\")"
   ]
  },
  {
   "cell_type": "markdown",
   "metadata": {
    "colab_type": "text",
    "id": "V7QJT8W9f98T"
   },
   "source": [
    "<table align=\"left\">\n",
    "    <tr>\n",
    "        <td width=\"6%\">\n",
    "            <img src=\"question_icon.png\">\n",
    "        </td>\n",
    "        <td>\n",
    "            <div align=\"left\", style=\"font-size:120%\">\n",
    "                <font color=\"#21618C\">\n",
    "                    <b>8. The newspaper agency wants to test whether Harry takes less time to deliver the newspapers than his colleague Ron. The manager has collected time (in minutes) taken by Harry and Ron for 7 days. Use the given data and test the hypothesis for population mean time using a critical value method and p-value criteria with 90% confidence.</b>\n",
    "                </font>\n",
    "            </div>\n",
    "        </td>\n",
    "    </tr>\n",
    "</table>"
   ]
  },
  {
   "cell_type": "markdown",
   "metadata": {},
   "source": [
    "Use the data given below:\n",
    "        \n",
    "    harry = [18.5, 17.4, 19.2, 16, 15.8, 13.4, 19.5]\n",
    "    ron = [19.7, 18.6, 21.3, 17.5, 23.8, 20.7, 21]"
   ]
  },
  {
   "cell_type": "code",
   "execution_count": 56,
   "metadata": {},
   "outputs": [
    {
     "name": "stdout",
     "output_type": "stream",
     "text": [
      "Mean of Harry = 17.1143\n",
      "Mean of Ron = 20.3714\n",
      "Standard Deviation of Harry = 2.1912\n",
      "Standard Deviation of Ron = 2.0394\n",
      "Calculated Value of t-Test = -2.8789\n",
      "Critical Value of t-test = -1.3562\n",
      "Reject Null Hypothesis Ho\n",
      "t-Test = -2.8789\n",
      "p-value =  0.0139\n",
      "Reject null hypothesis Ho\n",
      "Harry takes less time to deliver the newspapers than his colleague Ronat 10% level of significance.\n"
     ]
    }
   ],
   "source": [
    "harry=np.array([18.5,17.4,19.2,16,15.8,13.4,19.5])\n",
    "ron=np.array([19.7,18.6,21.3,17.5,23.8,20.7,21])\n",
    "n1=len(harry)\n",
    "n2=len(ron)\n",
    "xbar_1=np.mean(harry)\n",
    "xbar_2=np.mean(ron)\n",
    "S1=np.std(harry,ddof=1)\n",
    "S2=np.std(ron,ddof=1)\n",
    "\n",
    "print(\"Mean of Harry =\",round(xbar_1,4))\n",
    "print(\"Mean of Ron =\",round(xbar_2,4))\n",
    "print(\"Standard Deviation of Harry =\",round(S1,4))\n",
    "print(\"Standard Deviation of Ron =\",round(S2,4))\n",
    "\n",
    "t_test=(xbar_1-xbar_2)/np.sqrt((S1**2/n1)+(S2**2/n2))\n",
    "print(\"Calculated Value of t-Test =\",round(t_test,4))\n",
    "\n",
    "α = 0.1\n",
    "\n",
    "df = n1 + n2 - 2\n",
    "\n",
    "cv= stats.t.ppf(α,df)\n",
    "print(\"Critical Value of t-test =\",round(cv,4))\n",
    "\n",
    "if abs(t_test)<cv:\n",
    "    print(\"Accept Null Hypothesis Ho\")\n",
    "else:\n",
    "    print(\"Reject Null Hypothesis Ho\")\n",
    "\n",
    "from scipy.stats import ttest_ind\n",
    "\n",
    "ttest,pval=ttest_ind(harry,ron)\n",
    "print(\"t-Test =\",round(ttest,4))\n",
    "print(\"p-value = \",round(float(pval),4))\n",
    "\n",
    "if pval<0.1:\n",
    "    print(\"Reject null hypothesis Ho\")\n",
    "else:\n",
    "    print(\"Accept null hypothesis Ho\")\n",
    "print(\"Harry takes less time to deliver the newspapers than his colleague Ronat 10% level of significance.\")"
   ]
  },
  {
   "cell_type": "markdown",
   "metadata": {
    "colab_type": "text",
    "id": "XID79y2_f99O"
   },
   "source": [
    "<table align=\"left\">\n",
    "    <tr>\n",
    "        <td width=\"6%\">\n",
    "            <img src=\"question_icon.png\">\n",
    "        </td>\n",
    "        <td>\n",
    "            <div align=\"left\", style=\"font-size:120%\">\n",
    "                <font color=\"#21618C\">\n",
    "                        <b>9. The pharmaceutical company had organized a program to introduce its new drug to lower the sugar level. They recorded the fasting sugar (in mg/dl) of 25 diabetic people. Those people undergo a medication of the new drug for 10 days and again took a fasting sugar level test. The company claim that the sugar level decreases due to its new drug. Test the claim using p-value technique with 95% confidence.</b>\n",
    "                </font>\n",
    "            </div>\n",
    "        </td>\n",
    "    </tr>\n",
    "</table>"
   ]
  },
  {
   "cell_type": "markdown",
   "metadata": {},
   "source": [
    "Use the data given in the file `sugar_level.xlsx`"
   ]
  },
  {
   "cell_type": "code",
   "execution_count": 57,
   "metadata": {},
   "outputs": [
    {
     "data": {
      "text/html": [
       "<div>\n",
       "<style scoped>\n",
       "    .dataframe tbody tr th:only-of-type {\n",
       "        vertical-align: middle;\n",
       "    }\n",
       "\n",
       "    .dataframe tbody tr th {\n",
       "        vertical-align: top;\n",
       "    }\n",
       "\n",
       "    .dataframe thead th {\n",
       "        text-align: right;\n",
       "    }\n",
       "</style>\n",
       "<table border=\"1\" class=\"dataframe\">\n",
       "  <thead>\n",
       "    <tr style=\"text-align: right;\">\n",
       "      <th></th>\n",
       "      <th>sugar_before</th>\n",
       "      <th>sugar_after</th>\n",
       "    </tr>\n",
       "  </thead>\n",
       "  <tbody>\n",
       "    <tr>\n",
       "      <th>0</th>\n",
       "      <td>135</td>\n",
       "      <td>132</td>\n",
       "    </tr>\n",
       "    <tr>\n",
       "      <th>1</th>\n",
       "      <td>132</td>\n",
       "      <td>136</td>\n",
       "    </tr>\n",
       "    <tr>\n",
       "      <th>2</th>\n",
       "      <td>142</td>\n",
       "      <td>139</td>\n",
       "    </tr>\n",
       "    <tr>\n",
       "      <th>3</th>\n",
       "      <td>154</td>\n",
       "      <td>151</td>\n",
       "    </tr>\n",
       "    <tr>\n",
       "      <th>4</th>\n",
       "      <td>198</td>\n",
       "      <td>192</td>\n",
       "    </tr>\n",
       "  </tbody>\n",
       "</table>\n",
       "</div>"
      ],
      "text/plain": [
       "   sugar_before  sugar_after\n",
       "0           135          132\n",
       "1           132          136\n",
       "2           142          139\n",
       "3           154          151\n",
       "4           198          192"
      ]
     },
     "execution_count": 57,
     "metadata": {},
     "output_type": "execute_result"
    }
   ],
   "source": [
    "df=pd.read_excel('sugar_level.xlsx')\n",
    "df.head()"
   ]
  },
  {
   "cell_type": "code",
   "execution_count": 58,
   "metadata": {},
   "outputs": [
    {
     "data": {
      "text/html": [
       "<div>\n",
       "<style scoped>\n",
       "    .dataframe tbody tr th:only-of-type {\n",
       "        vertical-align: middle;\n",
       "    }\n",
       "\n",
       "    .dataframe tbody tr th {\n",
       "        vertical-align: top;\n",
       "    }\n",
       "\n",
       "    .dataframe thead th {\n",
       "        text-align: right;\n",
       "    }\n",
       "</style>\n",
       "<table border=\"1\" class=\"dataframe\">\n",
       "  <thead>\n",
       "    <tr style=\"text-align: right;\">\n",
       "      <th></th>\n",
       "      <th>sugar_before</th>\n",
       "      <th>sugar_after</th>\n",
       "    </tr>\n",
       "  </thead>\n",
       "  <tbody>\n",
       "    <tr>\n",
       "      <th>count</th>\n",
       "      <td>25.000000</td>\n",
       "      <td>25.000000</td>\n",
       "    </tr>\n",
       "    <tr>\n",
       "      <th>mean</th>\n",
       "      <td>155.000000</td>\n",
       "      <td>149.920000</td>\n",
       "    </tr>\n",
       "    <tr>\n",
       "      <th>std</th>\n",
       "      <td>14.857658</td>\n",
       "      <td>14.230015</td>\n",
       "    </tr>\n",
       "    <tr>\n",
       "      <th>min</th>\n",
       "      <td>132.000000</td>\n",
       "      <td>132.000000</td>\n",
       "    </tr>\n",
       "    <tr>\n",
       "      <th>25%</th>\n",
       "      <td>143.000000</td>\n",
       "      <td>140.000000</td>\n",
       "    </tr>\n",
       "    <tr>\n",
       "      <th>50%</th>\n",
       "      <td>158.000000</td>\n",
       "      <td>148.000000</td>\n",
       "    </tr>\n",
       "    <tr>\n",
       "      <th>75%</th>\n",
       "      <td>163.000000</td>\n",
       "      <td>159.000000</td>\n",
       "    </tr>\n",
       "    <tr>\n",
       "      <th>max</th>\n",
       "      <td>198.000000</td>\n",
       "      <td>192.000000</td>\n",
       "    </tr>\n",
       "  </tbody>\n",
       "</table>\n",
       "</div>"
      ],
      "text/plain": [
       "       sugar_before  sugar_after\n",
       "count     25.000000    25.000000\n",
       "mean     155.000000   149.920000\n",
       "std       14.857658    14.230015\n",
       "min      132.000000   132.000000\n",
       "25%      143.000000   140.000000\n",
       "50%      158.000000   148.000000\n",
       "75%      163.000000   159.000000\n",
       "max      198.000000   192.000000"
      ]
     },
     "execution_count": 58,
     "metadata": {},
     "output_type": "execute_result"
    }
   ],
   "source": [
    "df[['sugar_before','sugar_after']].describe()"
   ]
  },
  {
   "cell_type": "code",
   "execution_count": 59,
   "metadata": {},
   "outputs": [
    {
     "name": "stdout",
     "output_type": "stream",
     "text": [
      "p-value of t-Test= 0.0\n",
      "Rejecting null hypothesis Ho\n",
      "The sugar level decreases due to its new drug with  95% confidence (at5% Level of significance).\n"
     ]
    }
   ],
   "source": [
    "α=0.05\n",
    "\n",
    "ttest,pval=stats.ttest_rel(df['sugar_before'],df['sugar_after'])\n",
    "print(\"p-value of t-Test=\",round(float(pval),4))\n",
    "\n",
    "if pval<0.05:\n",
    "    print(\"Rejecting null hypothesis Ho\")\n",
    "else:\n",
    "    print(\"Accepting null hypothesis Ho\")\n",
    "    \n",
    "print(\"The sugar level decreases due to its new drug with  95% confidence (at5% Level of significance).\")"
   ]
  },
  {
   "cell_type": "markdown",
   "metadata": {
    "colab_type": "text",
    "id": "OL9cj_rRf983"
   },
   "source": [
    "<a id= \"prop\"></a>\n",
    "## 3. Z Proportion Test"
   ]
  },
  {
   "cell_type": "markdown",
   "metadata": {
    "colab_type": "text",
    "id": "XID79y2_f99O"
   },
   "source": [
    "<table align=\"left\">\n",
    "    <tr>\n",
    "        <td width=\"6%\">\n",
    "            <img src=\"question_icon.png\">\n",
    "        </td>\n",
    "        <td>\n",
    "            <div align=\"left\", style=\"font-size:120%\">\n",
    "                <font color=\"#21618C\">\n",
    "                    <b>10. The physics department claims that it received 14% of fraud applications this year. The university head wants to test whether the percentage is different than what the department claims. The sample of 250 applications is selected out of which 38 applications are found to fraud. Test the claim with a 95% confidence interval.</b>\n",
    "                </font>\n",
    "            </div>\n",
    "        </td>\n",
    "    </tr>\n",
    "</table>"
   ]
  },
  {
   "cell_type": "code",
   "execution_count": 60,
   "metadata": {},
   "outputs": [
    {
     "name": "stdout",
     "output_type": "stream",
     "text": [
      "Calculated Value of Z-Test = 0.5468\n",
      "Standard Normal Variate = Z(α)= 1.6449\n",
      "Reject Null Hypothesis Ho\n"
     ]
    }
   ],
   "source": [
    "n=250\n",
    "x=38\n",
    "p=x/n\n",
    "\n",
    "P=0.14    \n",
    "Q=1-P\n",
    "\n",
    "z_test=(p-P)/(np.sqrt(P*Q/n))\n",
    "print(\"Calculated Value of Z-Test =\",round(z_test,4))\n",
    "\n",
    "α=0.05\n",
    "\n",
    "Z_α = stats.norm.isf(α)\n",
    "print(\"Standard Normal Variate = Z(α)=\",round(Z_α,4))\n",
    "\n",
    "if abs(z_test) < Z_α:\n",
    "    print(\"Reject Null Hypothesis Ho\")\n",
    "else:\n",
    "    print(\"Accept Null Hypothesis Ho\")"
   ]
  },
  {
   "cell_type": "code",
   "execution_count": 61,
   "metadata": {},
   "outputs": [
    {
     "name": "stdout",
     "output_type": "stream",
     "text": [
      "Lower Limit of the Interval= 0.1159\n",
      "Upper Limit of the Interval= 0.1881\n",
      "The 95% confidence interval for the Proportion mean is 0.1159 and 0.1881\n",
      "Reject Null Hypothesis Ho\n"
     ]
    }
   ],
   "source": [
    "Z_α = stats.norm.isf(α)\n",
    "\n",
    "LCL=p-(Z_α*np.sqrt(P*Q/n))\n",
    "print(\"Lower Limit of the Interval=\",round(LCL,4))\n",
    "\n",
    "UCL=p+(Z_α*np.sqrt(P*Q/n))\n",
    "print(\"Upper Limit of the Interval=\",round(UCL,4))\n",
    "print(\"The 95% confidence interval for the Proportion mean is\",round(LCL,4),'and',round(UCL,4))\n",
    "\n",
    "if LCL < abs(z_test) < UCL:\n",
    "    print(\"Accept Null Hypothesis Ho\")\n",
    "else:\n",
    "    print(\"Reject Null Hypothesis Ho\")"
   ]
  },
  {
   "cell_type": "markdown",
   "metadata": {
    "colab_type": "text",
    "id": "9qnEEhR4f98X"
   },
   "source": [
    "<table align=\"left\">\n",
    "    <tr>\n",
    "        <td width=\"6%\">\n",
    "            <img src=\"question_icon.png\">\n",
    "        </td>\n",
    "        <td>\n",
    "            <div align=\"left\", style=\"font-size:120%\">\n",
    "                <font color=\"#21618C\">\n",
    "                    <b>11. The store manager claims that he received more 20% of defective plastic boxes in his previous order. Test the manager's claim using a critical value method. From a sample of 120 boxes, 42 were found to be defective. Test the claim with 90% confidence.</b>\n",
    "                </font>\n",
    "            </div>\n",
    "        </td>\n",
    "    </tr>\n",
    "</table>"
   ]
  },
  {
   "cell_type": "code",
   "execution_count": 62,
   "metadata": {},
   "outputs": [
    {
     "name": "stdout",
     "output_type": "stream",
     "text": [
      "Calculated Value of Z-Test = 4.1079\n",
      "Standard Normal Variate = Z(α)= 1.2816\n",
      "Reject Null Hypothesis Ho\n",
      "That is the store manager cannot be supported with 90% confidence (at 10% Level of significance.\n"
     ]
    }
   ],
   "source": [
    "n=120\n",
    "x=42\n",
    "p=x/n\n",
    "\n",
    "P=0.2\n",
    "\n",
    "Q=1-P\n",
    "\n",
    "z_test=(p-P)/(np.sqrt(P*Q/n))\n",
    "print(\"Calculated Value of Z-Test =\",round(z_test,4))\n",
    "\n",
    "α=0.1\n",
    "\n",
    "Z_α = stats.norm.isf(α)\n",
    "print(\"Standard Normal Variate = Z(α)=\",round(Z_α,4))\n",
    "\n",
    "if abs(z_test)<Z_α:\n",
    "    print(\"Accept Null Hypothesis Ho\")\n",
    "else:\n",
    "    print(\"Reject Null Hypothesis Ho\")\n",
    "print(\"That is the store manager cannot be supported with 90% confidence (at 10% Level of significance.\")"
   ]
  },
  {
   "cell_type": "markdown",
   "metadata": {
    "colab_type": "text",
    "id": "6YXVLVi9f98b"
   },
   "source": [
    "<table align=\"left\">\n",
    "    <tr>\n",
    "        <td width=\"6%\">\n",
    "            <img src=\"question_icon.png\">\n",
    "        </td>\n",
    "        <td>\n",
    "            <div align=\"left\", style=\"font-size:120%\">\n",
    "                <font color=\"#21618C\">\n",
    "                        <b>12. The HR head of a company claims that the company supports the woman empowerment and the proportion of female employees is same in the New York and Oneonta branches. The women empowerment cell wants to check whether the proportion is different for the two branches. The sample of 150 employees is selected from New York branch out of which 53 are females and a sample of 170 employees is selected from Oneonta branch out of which 76 are females. Use the p-value technique with 95% confidence. </b>\n",
    "                </font>\n",
    "            </div>\n",
    "        </td>\n",
    "    </tr>\n",
    "</table>"
   ]
  },
  {
   "cell_type": "code",
   "execution_count": 63,
   "metadata": {},
   "outputs": [
    {
     "name": "stdout",
     "output_type": "stream",
     "text": [
      "z_test: -1.706, p_value: 0.088\n",
      "Accept null hypothesis Ho\n"
     ]
    }
   ],
   "source": [
    "significance=0.025\n",
    "x1,n1=(53,150)\n",
    "x2,n2=(76,170)\n",
    "\n",
    "successes=np.array([x1,x2])\n",
    "samples=np.array([n1,n2])\n",
    "\n",
    "from statsmodels.stats.proportion import proportions_ztest\n",
    "\n",
    "stat,p_value = proportions_ztest(count=successes,nobs=samples,alternative='two-sided')\n",
    "print('z_test: %0.3f, p_value: %0.3f'%(stat,p_value))\n",
    "\n",
    "if p_value>significance:\n",
    "    print(\"Accept null hypothesis Ho\")\n",
    "else:\n",
    "    print(\"Reject the null hypothesis Ho\")"
   ]
  },
  {
   "cell_type": "markdown",
   "metadata": {
    "colab_type": "text",
    "id": "3uPwVwgAf99s"
   },
   "source": [
    "<table align=\"left\">\n",
    "    <tr>\n",
    "        <td width=\"6%\">\n",
    "            <img src=\"question_icon.png\">\n",
    "        </td>\n",
    "        <td>\n",
    "            <div align=\"left\", style=\"font-size:120%\">\n",
    "                <font color=\"#21618C\">\n",
    "                    <b>13. The education department claims that the proportion of students failed in Mathematics is more than the proportion of students failed in English. To test the claim a sample of 200 students enrolled for Mathematics was considered out of which 73 students failed in the exam and a sample of 150 students enrolled for English was considered out of which 53 students failed in the exam. Use the critical value method to test the department's claim with 90% confidence. </b>\n",
    "                </font>\n",
    "            </div>\n",
    "        </td>\n",
    "    </tr>\n",
    "</table>"
   ]
  },
  {
   "cell_type": "code",
   "execution_count": 64,
   "metadata": {},
   "outputs": [
    {
     "name": "stdout",
     "output_type": "stream",
     "text": [
      "Calculated Value of Z-Test = 0.225\n",
      "Standard Normal Variate = Z(α)= 1.2816\n",
      "Accept Null Hypothesis Ho\n",
      "There is no difference between students failed in Mathematics and English with 90% confidence.\n"
     ]
    }
   ],
   "source": [
    "n1=200\n",
    "n2=150\n",
    "x1=73\n",
    "x2=53\n",
    "p1=x1/n1\n",
    "p2=x2/n2\n",
    "P=(n1*p1+n2*p2)/(n1+n2)\n",
    "Q=1-P\n",
    "\n",
    "z_test=(p1-p2)/(np.sqrt(P*Q*(1/n1+1/n2)))\n",
    "print(\"Calculated Value of Z-Test =\",round(z_test,4))\n",
    "\n",
    "α=0.1\n",
    "Z_α = stats.norm.isf(α)\n",
    "print(\"Standard Normal Variate = Z(α)=\",round(Z_α,4))\n",
    "\n",
    "if abs(z_test)<Z_α:\n",
    "    print(\"Accept Null Hypothesis Ho\")\n",
    "else:\n",
    "    print(\"Reject Null Hypothesis Ho\")\n",
    "print(\"There is no difference between students failed in Mathematics and English with 90% confidence.\")"
   ]
  }
 ],
 "metadata": {
  "colab": {
   "name": "ITP - In-Class Lab Exercise (Day1) - Solutions [V1.0 030120].ipynb",
   "provenance": []
  },
  "kernelspec": {
   "display_name": "Python 3",
   "language": "python",
   "name": "python3"
  },
  "language_info": {
   "codemirror_mode": {
    "name": "ipython",
    "version": 3
   },
   "file_extension": ".py",
   "mimetype": "text/x-python",
   "name": "python",
   "nbconvert_exporter": "python",
   "pygments_lexer": "ipython3",
   "version": "3.8.8"
  }
 },
 "nbformat": 4,
 "nbformat_minor": 1
}
